{
  "nbformat": 4,
  "nbformat_minor": 0,
  "metadata": {
    "colab": {
      "private_outputs": true,
      "provenance": [],
      "authorship_tag": "ABX9TyOtAtvTiCr4lpNR33jMElzB",
      "include_colab_link": true
    },
    "kernelspec": {
      "name": "python3",
      "display_name": "Python 3"
    },
    "language_info": {
      "name": "python"
    }
  },
  "cells": [
    {
      "cell_type": "markdown",
      "metadata": {
        "id": "view-in-github",
        "colab_type": "text"
      },
      "source": [
        "<a href=\"https://colab.research.google.com/github/xvf-GIT/Heart_attack-Using-Decision-Tree/blob/main/heart_attack_.ipynb\" target=\"_parent\"><img src=\"https://colab.research.google.com/assets/colab-badge.svg\" alt=\"Open In Colab\"/></a>"
      ]
    },
    {
      "cell_type": "code",
      "execution_count": null,
      "metadata": {
        "id": "ILGnS7DHfkrW"
      },
      "outputs": [],
      "source": [
        "import pandas as pd\n",
        "df=pd.read_csv(\"/content/heart_attack_china.csv\")\n",
        "df"
      ]
    },
    {
      "cell_type": "code",
      "source": [
        "df.isnull().sum()"
      ],
      "metadata": {
        "id": "ghsE9ygYgKDU"
      },
      "execution_count": null,
      "outputs": []
    },
    {
      "cell_type": "code",
      "source": [
        "df.dropna(inplace=True)\n"
      ],
      "metadata": {
        "id": "rKiHHZ5HgPjh"
      },
      "execution_count": null,
      "outputs": []
    },
    {
      "cell_type": "code",
      "source": [
        "df.isnull().sum()"
      ],
      "metadata": {
        "id": "UIieJEwmg5qV"
      },
      "execution_count": null,
      "outputs": []
    },
    {
      "cell_type": "code",
      "source": [
        "from sklearn.preprocessing import LabelEncoder\n",
        "le=LabelEncoder()\n",
        "l=['Gender','Smoking_Status','Hypertension','Diabetes','Obesity','Cholesterol_Level','Air_Pollution_Exposure','Physical_Activity','Diet_Score',\n",
        "'Stress_Level','Alcohol_Consumption','Family_History_CVD','Healthcare_Access','Rural_or_Urban','Region','Province','Hospital_Availability',\n",
        "'TCM_Use','Employment_Status','Education_Level','Income_Level','Chronic_Kidney_Disease','Previous_Heart_Attack']\n",
        "\n",
        "for i in l:\n",
        "  df[i]=le.fit_transform(df[i].astype(str))\n"
      ],
      "metadata": {
        "id": "zjYqF4lKjKCI"
      },
      "execution_count": null,
      "outputs": []
    },
    {
      "cell_type": "code",
      "source": [
        "df"
      ],
      "metadata": {
        "id": "ONB5q4B2onun"
      },
      "execution_count": null,
      "outputs": []
    },
    {
      "cell_type": "code",
      "source": [
        "x=df.iloc[:,1:27].values\n",
        "x"
      ],
      "metadata": {
        "id": "BPTHy6lGhUj4"
      },
      "execution_count": null,
      "outputs": []
    },
    {
      "cell_type": "code",
      "source": [
        "y=df.iloc[:,-1].values\n",
        "y"
      ],
      "metadata": {
        "id": "EyqTzEcMiH8L"
      },
      "execution_count": null,
      "outputs": []
    },
    {
      "cell_type": "code",
      "source": [
        "from sklearn.model_selection import train_test_split\n",
        "x_train,x_test,y_train,y_test=train_test_split(x,y,test_size=0.2,random_state=42)"
      ],
      "metadata": {
        "id": "qctEIhGEqFKv"
      },
      "execution_count": null,
      "outputs": []
    },
    {
      "cell_type": "code",
      "source": [
        "from sklearn.tree import DecisionTreeClassifier\n",
        "dc=DecisionTreeClassifier(criterion=\"entropy\",max_depth=3)\n",
        "dc.fit(x_train,y_train)"
      ],
      "metadata": {
        "id": "SU-RYSYhsBkN"
      },
      "execution_count": null,
      "outputs": []
    },
    {
      "cell_type": "code",
      "source": [
        "y_predict_test=dc.predict(x_test)\n",
        "y_predict_test"
      ],
      "metadata": {
        "id": "sScn09H3rsAM"
      },
      "execution_count": null,
      "outputs": []
    },
    {
      "cell_type": "code",
      "source": [
        "y_predict_train=dc.predict(x_train)\n",
        "y_predict_train"
      ],
      "metadata": {
        "id": "mUBhNVY7tDYu"
      },
      "execution_count": null,
      "outputs": []
    },
    {
      "cell_type": "code",
      "source": [
        "from sklearn.metrics import accuracy_score\n",
        "a=accuracy_score(y_test,y_predict_test)\n",
        "print(a*100)"
      ],
      "metadata": {
        "id": "LRzP-mpwtS_W"
      },
      "execution_count": null,
      "outputs": []
    },
    {
      "cell_type": "code",
      "source": [
        "\n",
        "b=accuracy_score(y_train,y_predict_train)\n",
        "print(a*100)"
      ],
      "metadata": {
        "id": "0a_E_PO6uYfG"
      },
      "execution_count": null,
      "outputs": []
    },
    {
      "cell_type": "code",
      "source": [
        "import matplotlib.pyplot as plt\n",
        "from sklearn import tree\n",
        "plt.figure(figsize=(20,20))\n",
        "tree.plot_tree(dc,filled=True)\n",
        "plt.show()"
      ],
      "metadata": {
        "id": "TgstIXyyo_Xn"
      },
      "execution_count": null,
      "outputs": []
    }
  ]
}